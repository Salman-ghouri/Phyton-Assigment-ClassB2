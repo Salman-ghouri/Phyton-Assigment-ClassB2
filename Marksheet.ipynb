{
 "cells": [
  {
   "cell_type": "code",
   "execution_count": 1,
   "metadata": {},
   "outputs": [
    {
     "name": "stdin",
     "output_type": "stream",
     "text": [
      "Enter your name  Salman Wasim Ghouri\n",
      "Enter your Roll No 12\n",
      "Emter chemistry mark out of 100 : 57\n",
      "Enter Physics mark out of 100 : 59\n",
      "Enter Maths mark out of 100 : 80\n",
      "Enter Urdu mark out of 100 : 85\n",
      "Enter Pst mark out of 100 : 89\n"
     ]
    },
    {
     "name": "stdout",
     "output_type": "stream",
     "text": [
      "Name: Salman Wasim Ghouri\n",
      "Roll: 12\n",
      "Chemistry Marks :  57\n",
      "Physics Marks :  59\n",
      "Maths Marks :  80\n",
      "Urdu Marks :  85\n",
      "Pst Marks :  89\n",
      "total Marks :  370\n",
      "percentage%:  74\n",
      "Grade : A\n"
     ]
    }
   ],
   "source": [
    "name =input(\"Enter your name \")\n",
    "roll =int(input(\"Enter your Roll No\"))\n",
    "Chem = int(input(\"Emter chemistry mark out of 100 :\"))\n",
    "Phy = int(input(\"Enter Physics mark out of 100 :\"))\n",
    "Math = int(input(\"Enter Maths mark out of 100 :\"))\n",
    "Urdu = int(input(\"Enter Urdu mark out of 100 :\"))\n",
    "Pst = int(input(\"Enter Pst mark out of 100 :\"))\n",
    "total = Chem + Phy + Math + Urdu + Pst\n",
    "per = (total*100) // 500\n",
    "print(\"Name:\", name)\n",
    "print(\"Roll:\", roll)\n",
    "print(\"Chemistry Marks : \", Chem)\n",
    "print(\"Physics Marks : \", Phy)\n",
    "print(\"Maths Marks : \", Math)\n",
    "print(\"Urdu Marks : \", Urdu)\n",
    "print(\"Pst Marks : \", Pst)\n",
    "print(\"total Marks : \", total)\n",
    "print(\"percentage%: \", per)\n",
    "if per >=80 and per <=100 :\n",
    "    print(\"grade : A+\")\n",
    "elif per >=70 and per <80 :\n",
    "    print(\"Grade : A\")\n",
    "elif per >=60 and per <70 :\n",
    "    print(\"Grade : B\")\n",
    "elif per >=50 and per <60 :\n",
    "    print(\"Grade : C\")\n",
    "elif per >=40 and per <50 :\n",
    "    print(\"Grade : D\")\n",
    "elif per >=33 and per <40 :\n",
    "    print(\"Grade : E\")\n",
    "elif per >=0 and per <33 :\n",
    "    print(\"Grade : F\")\n",
    "elif per <33 :\n",
    "    print(\"Grade : Fail\")\n",
    "\n",
    "\n",
    "else :\n",
    "    print(\" you write inappeopiate percentage\")\n",
    "          \n"
   ]
  },
  {
   "cell_type": "code",
   "execution_count": null,
   "metadata": {},
   "outputs": [],
   "source": []
  }
 ],
 "metadata": {
  "kernelspec": {
   "display_name": "Python 3",
   "language": "python",
   "name": "python3"
  },
  "language_info": {
   "codemirror_mode": {
    "name": "ipython",
    "version": 3
   },
   "file_extension": ".py",
   "mimetype": "text/x-python",
   "name": "python",
   "nbconvert_exporter": "python",
   "pygments_lexer": "ipython3",
   "version": "3.7.4"
  }
 },
 "nbformat": 4,
 "nbformat_minor": 4
}
