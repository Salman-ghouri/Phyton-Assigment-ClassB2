{
 "cells": [
  {
   "cell_type": "code",
   "execution_count": 1,
   "metadata": {},
   "outputs": [
    {
     "name": "stdout",
     "output_type": "stream",
     "text": [
      "The factorial of 4 is 24\n"
     ]
    }
   ],
   "source": [
    "#ASSIG 1\n",
    "num = 4\n",
    "# To take input from the user\n",
    "#num = int(input(\"Enter a number: \"))\n",
    "factorial = 1\n",
    "# check if the number is negative, positive or zero\n",
    "if num < 0:\n",
    "   print(\"Sorry, factorial does not exist for negative numbers\")\n",
    "elif num == 0:\n",
    "   print(\"The factorial of 0 is 1\")\n",
    "else:\n",
    "   for i in range(1,num + 1):\n",
    "       factorial = factorial*i\n",
    "   print(\"The factorial of\",num,\"is\",factorial)\n",
    "            "
   ]
  },
  {
   "cell_type": "code",
   "execution_count": 2,
   "metadata": {},
   "outputs": [
    {
     "name": "stdout",
     "output_type": "stream",
     "text": [
      "Original String :  The quick Brown Fox\n",
      "No. of Upper case characters :  3\n",
      "No. of Lower case Characters :  13\n"
     ]
    }
   ],
   "source": [
    "#ASSIG 2\n",
    "def string_test(s):\n",
    "    d={\"UPPER_CASE\":0, \"LOWER_CASE\":0}\n",
    "    for c in s:\n",
    "        if c.isupper():\n",
    "           d[\"UPPER_CASE\"]+=1\n",
    "        elif c.islower():\n",
    "           d[\"LOWER_CASE\"]+=1\n",
    "        else:\n",
    "           pass\n",
    "    print (\"Original String : \", s)\n",
    "    print (\"No. of Upper case characters : \", d[\"UPPER_CASE\"])\n",
    "    print (\"No. of Lower case Characters : \", d[\"LOWER_CASE\"])\n",
    "\n",
    "string_test('The quick Brown Fox')\n"
   ]
  },
  {
   "cell_type": "code",
   "execution_count": 3,
   "metadata": {},
   "outputs": [
    {
     "name": "stdout",
     "output_type": "stream",
     "text": [
      "True\n"
     ]
    }
   ],
   "source": [
    "#ASSIG 4\n",
    "def isPalindrome(string):\n",
    "\tleft_pos = 0\n",
    "\tright_pos = len(string) - 1\n",
    "\t\n",
    "\twhile right_pos >= left_pos:\n",
    "\t\tif not string[left_pos] == string[right_pos]:\n",
    "\t\t\treturn False\n",
    "\t\tleft_pos += 1\n",
    "\t\tright_pos -= 1\n",
    "\treturn True\n",
    "print(isPalindrome('aza')) "
   ]
  },
  {
   "cell_type": "code",
   "execution_count": 4,
   "metadata": {},
   "outputs": [
    {
     "name": "stdout",
     "output_type": "stream",
     "text": [
      "11 is a prime number\n"
     ]
    }
   ],
   "source": [
    "#ASSIG 5\n",
    "# Python program to check if  \n",
    "# given number is prime or not \n",
    "  \n",
    "num = 11\n",
    "  \n",
    "# If given number is greater than 1 \n",
    "if num > 1: \n",
    "      \n",
    "   # Iterate from 2 to n / 2  \n",
    "   for i in range(2, num//2): \n",
    "         \n",
    "       # If num is divisible by any number between  \n",
    "       # 2 and n / 2, it is not prime  \n",
    "       if (num % i) == 0: \n",
    "           print(num, \"is not a prime number\") \n",
    "           break\n",
    "   else: \n",
    "       print(num, \"is a prime number\") \n",
    "  \n",
    "else: \n",
    "   print(num, \"is not a prime number\")\n"
   ]
  },
  {
   "cell_type": "code",
   "execution_count": null,
   "metadata": {},
   "outputs": [
    {
     "name": "stdout",
     "output_type": "stream",
     "text": [
      "Enter your budget : 5000\n",
      "1.ADD\n",
      "2.EXIT\n",
      "Enter your choice : 1\n",
      "Enter product name : JUICE\n",
      "Enter quantity : 25\n",
      "Enter price of the product : 20\n",
      "\n",
      "amount left 4980.0\n"
     ]
    }
   ],
   "source": [
    "#ASSIG # 6 (SALMAN WASEEM) \n",
    "while True: \n",
    "\ttry: \n",
    "\t\tbg = float(input(\"Enter your budget : \")) \n",
    "\t\t# if budget is integer or float it will be stored \n",
    "\t\t# temporarily in variable 's' \n",
    "\t\ts = bg \n",
    "\texcept ValueError: \n",
    "\t\tprint(\"PRINT NUMBER AS A AMOUNT\") \n",
    "\t\tcontinue\n",
    "\telse: \n",
    "\t\tbreak\n",
    "\n",
    "# dictionary to store product(\"name\"), quantity(\"quant\"), \n",
    "# price(\"price\") with empty list as their values \n",
    "a ={\"name\":[], \"quant\":[], \"price\":[]} \n",
    "\n",
    "# converting dictionary to list for further updation \n",
    "b = list(a.values()) \n",
    "\n",
    "# variable na value of \"name\" from dictionary 'a' \n",
    "na = b[0] \n",
    "\n",
    "# variable qu value of \"quant\" from dictionary 'a' \n",
    "qu = b[1] \n",
    "\n",
    "# variable pr value of \"price\" from dictionary 'a' \n",
    "pr = b[2] \n",
    "\n",
    "# This loop terminates when user select 2.EXIT option when asked \n",
    "# in try it will ask user for an option as an integer (1 or 2) \n",
    "# if correct then proceed else continue asking options \n",
    "while True: \n",
    "\ttry: \n",
    "\t\tch = int(input(\"1.ADD\\n2.EXIT\\nEnter your choice : \")) \n",
    "\texcept ValueError: \n",
    "\t\tprint(\"\\nERROR: Choose only digits from the given option\") \n",
    "\t\tcontinue\n",
    "\telse: \n",
    "\t\t# check the budget is greater than zero and option selected \n",
    "\t\t# by user is 1 i.e. to add an item \n",
    "\t\tif ch == 1 and s>0:\t \n",
    "\n",
    "\t\t\t# input products name\t\t\t\t \n",
    "\t\t\tpn = input(\"Enter product name : \") \n",
    "\t\t\t# input quantity of product \n",
    "\t\t\tq = input(\"Enter quantity : \") \n",
    "\t\t\t# input price of the product \n",
    "\t\t\tp = float(input(\"Enter price of the product : \")) \n",
    "\n",
    "\t\t\tif p>s: \n",
    "\t\t\t\t# checks if price is less than budget \n",
    "\t\t\t\tprint(\"\\nCAN, T BUT THE PRODUCT\") \n",
    "\t\t\t\tcontinue\n",
    "\n",
    "\t\t\telse: \n",
    "\t\t\t\t# checks if product name already in list \n",
    "\t\t\t\tif pn in na: \n",
    "\t\t\t\t\t# find the index of that product \n",
    "\t\t\t\t\tind = na.index(pn) \n",
    "\n",
    "\t\t\t\t\t# remove quantity from \"quant\" index of the product \n",
    "\t\t\t\t\tqu.remove(qu[ind]) \n",
    "\n",
    "\t\t\t\t\t# remove price from \"price\" index of the product \n",
    "\t\t\t\t\tpr.remove(pr[ind]) \n",
    "\n",
    "\t\t\t\t\t# insert new value given by user earlier \n",
    "\t\t\t\t\tqu.insert(ind, q) \n",
    "\n",
    "\t\t\t\t\t# insert new value given by user earlier \n",
    "\t\t\t\t\tpr.insert(ind, p) \n",
    "\n",
    "\t\t\t\t\t# subtracting the price from the budget and assign \n",
    "\t\t\t\t\t# it to 's' sum(pr) is because pr = [100, 200] if \n",
    "\t\t\t\t\t# budget is 500 then s = bg-sum(pr) = 200 \n",
    "\t\t\t\t\t# after updating for same product at index 0 let \n",
    "\t\t\t\t\t# pr = [200, 200] so s = 100 \n",
    "\t\t\t\t\ts = bg-sum(pr) \n",
    "\n",
    "\t\t\t\t\tprint(\"\\namount left\", s) \n",
    "\t\t\t\telse: \n",
    "\t\t\t\t\t# append value of in \"name\", \"quantity\", \"price\" \n",
    "\t\t\t\t\tna.append(pn) \n",
    "\n",
    "\t\t\t\t\t# as na = b[0] it will append all the value in the \n",
    "\t\t\t\t\t# list eg: \"name\":[\"rice\"] \n",
    "\t\t\t\t\tqu.append(q) \n",
    "\n",
    "\t\t\t\t\t# same for quantity and price \n",
    "\t\t\t\t\tpr.append(p)\t \n",
    "\n",
    "\t\t\t\t\t# after appending new value the sum in price \n",
    "\t\t\t\t\t# as to be calculated \n",
    "\t\t\t\t\ts = bg-sum(pr) \n",
    "\n",
    "\t\t\t\t\tprint(\"\\namount left\", s) \n",
    "\n",
    "\t\t# if budget goes zero print \"NO BUDGET\" \n",
    "\t\telif s<= 0: \n",
    "\t\t\tprint(\"\\nNO BUDGET\") \n",
    "\t\telse: \n",
    "\t\t\tbreak\n",
    "\n",
    "# will print amount left in variable 's' \n",
    "print(\"\\nAmount left : Rs.\", s) \n",
    "\n",
    "# if the amount left equals to any amount in price list \n",
    "if s in pr: \n",
    "\t# then printing the name of the product which can buy \n",
    "\tprint(\"\\nAmount left can buy you a\", na[pr.index(s)]) \n",
    "\n",
    "print(\"\\n\\n\\nGROCERY LIST\") \n",
    "\n",
    "# print final grocery list \n",
    "for i in range(len(na)): \n",
    "\tprint(na[i], qu[i], pr[i]) \n"
   ]
  },
  {
   "cell_type": "code",
   "execution_count": 1,
   "metadata": {},
   "outputs": [
    {
     "name": "stdout",
     "output_type": "stream",
     "text": [
      "[2, 4, 6, 8]\n"
     ]
    }
   ],
   "source": [
    "#ASSIG 3\n",
    "def is_even_num(l):\n",
    "    enum = []\n",
    "    for n in l:\n",
    "        if n % 2 == 0:\n",
    "            enum.append(n)\n",
    "    return enum\n",
    "print(is_even_num([1, 2, 3, 4, 5, 6, 7, 8, 9]))"
   ]
  },
  {
   "cell_type": "code",
   "execution_count": null,
   "metadata": {},
   "outputs": [],
   "source": [
    "    "
   ]
  },
  {
   "cell_type": "code",
   "execution_count": null,
   "metadata": {},
   "outputs": [],
   "source": []
  }
 ],
 "metadata": {
  "kernelspec": {
   "display_name": "Python 3",
   "language": "python",
   "name": "python3"
  },
  "language_info": {
   "codemirror_mode": {
    "name": "ipython",
    "version": 3
   },
   "file_extension": ".py",
   "mimetype": "text/x-python",
   "name": "python",
   "nbconvert_exporter": "python",
   "pygments_lexer": "ipython3",
   "version": "3.7.4"
  }
 },
 "nbformat": 4,
 "nbformat_minor": 2
}
