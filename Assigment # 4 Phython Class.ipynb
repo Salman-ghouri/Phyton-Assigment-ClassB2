{
 "cells": [
  {
   "cell_type": "code",
   "execution_count": 2,
   "metadata": {},
   "outputs": [
    {
     "name": "stdout",
     "output_type": "stream",
     "text": [
      "Salman\n",
      "Ghouri\n",
      "21\n",
      "Karachi\n"
     ]
    }
   ],
   "source": [
    "#assig 1\n",
    "person = {\n",
    "    'first_name': 'Salman',\n",
    "    'last_name': 'Ghouri',\n",
    "    'age': 21,\n",
    "    'city': 'Karachi',\n",
    "    }\n",
    "\n",
    "print(person['first_name'])\n",
    "print(person['last_name'])\n",
    "print(person['age'])\n",
    "print(person['city'])\n",
    "\n"
   ]
  },
  {
   "cell_type": "code",
   "execution_count": 5,
   "metadata": {},
   "outputs": [
    {
     "name": "stdout",
     "output_type": "stream",
     "text": [
      "\n",
      "Ali Raza is in Australia.\n",
      "  It has a population of about 92118.\n",
      "  The Austria mountains are nearby.\n",
      "\n",
      "Usman Khan is in Nipal.\n",
      "  It has a population of about 4554.\n",
      "  The Mount Avarist mountains are nearby.\n",
      "\n",
      "Salman Ghouri is in Paikistan.\n",
      "  It has a population of about 42101.\n",
      "  The K2 mountains are nearby.\n"
     ]
    }
   ],
   "source": [
    "#assig 2\n",
    "cities = {\n",
    "    'Ali Raza': {\n",
    "        'country': 'Australia',\n",
    "        'population': 92118,\n",
    "        'nearby mountains': 'Austria',\n",
    "        },\n",
    "    'Usman Khan': {\n",
    "        'country': 'Nipal',\n",
    "        'population': 4554,\n",
    "        'nearby mountains': 'Mount Avarist',\n",
    "        },\n",
    "    'Salman Ghouri': {\n",
    "        'country': 'Paikistan',\n",
    "        'population': 42101,\n",
    "        'nearby mountains': 'K2',\n",
    "        }\n",
    "    }\n",
    "\n",
    "for city, city_info in cities.items():\n",
    "    country = city_info['country'].title()\n",
    "    population = city_info['population']\n",
    "    mountains = city_info['nearby mountains'].title()\n",
    "\n",
    "    print(\"\\n\" + city.title() + \" is in \" + country + \".\")\n",
    "    print(\"  It has a population of about \" + str(population) + \".\")\n",
    "    print(\"  The \" + mountains + \" mountains are nearby.\")\n",
    "  "
   ]
  },
  {
   "cell_type": "code",
   "execution_count": null,
   "metadata": {},
   "outputs": [
    {
     "name": "stdout",
     "output_type": "stream",
     "text": [
      "How old are you?\n",
      "Enter 'quit' when you are finished. 2\n",
      "  You get in free!\n",
      "How old are you?\n",
      "Enter 'quit' when you are finished. 7\n",
      "  Your ticket is $10.\n",
      "How old are you?\n",
      "Enter 'quit' when you are finished. 15\n",
      "  Your ticket is $15.\n"
     ]
    }
   ],
   "source": [
    "#assig 3\n",
    "prompt = \"How old are you?\"\n",
    "prompt += \"\\nEnter 'quit' when you are finished. \"\n",
    "\n",
    "while True:\n",
    "    age = input(prompt)\n",
    "    if age == 'quit':\n",
    "        break\n",
    "    age = int(age)\n",
    "\n",
    "    if age < 3:\n",
    "        print(\"  You get in free!\")\n",
    "    elif age < 13:\n",
    "        print(\"  Your ticket is $10.\")\n",
    "    else:\n",
    "        print(\"  Your ticket is $15.\")\n",
    "        "
   ]
  },
  {
   "cell_type": "code",
   "execution_count": 1,
   "metadata": {},
   "outputs": [
    {
     "name": "stdout",
     "output_type": "stream",
     "text": [
      "Alice in Wonderland is one of my favorite book\n"
     ]
    }
   ],
   "source": [
    "#assig 4\n",
    "def favorite_book(title):\n",
    "    \"\"\"Display a message about someone's favorite book.\"\"\"\n",
    "    print(title + \" is one of my favorite book\")\n",
    "\n",
    "favorite_book('Alice in Wonderland')\n"
   ]
  },
  {
   "cell_type": "code",
   "execution_count": 2,
   "metadata": {},
   "outputs": [
    {
     "name": "stdout",
     "output_type": "stream",
     "text": [
      "Guess a number between 1 and 100\n",
      "100\n",
      "Try Lower\n",
      "Guess a number between 1 and 100\n",
      "55\n",
      "Try Lower\n",
      "Guess a number between 1 and 100\n",
      "2\n",
      "Try Higher\n",
      "Guess a number between 1 and 100\n",
      "6\n",
      "You won!!!\n",
      "if you gussed less than 6 times you won\n"
     ]
    }
   ],
   "source": [
    "#assig 5\n",
    "import random\n",
    "num = random.randint(1, 100)\n",
    "while True:\n",
    "    print('Guess a number between 1 and 100')\n",
    "    guess = input()\n",
    "    i = int(guess)\n",
    "    if i == num:\n",
    "        print('You won!!!')\n",
    "        break\n",
    "    elif i < num:\n",
    "               print('Try Higher')\n",
    "    elif i > num:\n",
    "               print('Try Lower')\n",
    "#any recommendations for the game end\n",
    "print('if you gussed less than 6 times you won')\n"
   ]
  },
  {
   "cell_type": "code",
   "execution_count": null,
   "metadata": {},
   "outputs": [],
   "source": []
  }
 ],
 "metadata": {
  "kernelspec": {
   "display_name": "Python 3",
   "language": "python",
   "name": "python3"
  },
  "language_info": {
   "codemirror_mode": {
    "name": "ipython",
    "version": 3
   },
   "file_extension": ".py",
   "mimetype": "text/x-python",
   "name": "python",
   "nbconvert_exporter": "python",
   "pygments_lexer": "ipython3",
   "version": "3.7.4"
  }
 },
 "nbformat": 4,
 "nbformat_minor": 2
}
